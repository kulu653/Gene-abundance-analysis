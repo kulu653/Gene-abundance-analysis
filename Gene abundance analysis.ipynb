{
 "cells": [
  {
   "cell_type": "markdown",
   "id": "f4c75304-0894-4b8f-9215-dfcacedbdb87",
   "metadata": {},
   "source": [
    "## Country specific gene abundance analysis.  \n",
    "\n",
    "### Prior to this, creating the environment, connect to database and retrive requied data from the database.\n",
    "                    "
   ]
  },
  {
   "cell_type": "markdown",
   "id": "9aec2228",
   "metadata": {},
   "source": [
    "### Country specific Top 50 ARGs for each sample type"
   ]
  },
  {
   "cell_type": "code",
   "execution_count": null,
   "id": "764d3e91",
   "metadata": {},
   "outputs": [],
   "source": [
    "#create empty DFs\n",
    "dicts_countries_per_sample_type = {}\n",
    "df_all_assay= {}\n",
    "df_all_assay_with_signal= {}\n",
    "abun_data_most_detected_assay= {}\n",
    "df_abun_data_most_detected_assay= {}\n",
    "df_abun_data_most_detected_assay_with_gene_name= {}\n",
    "df_sample_ID_= {}\n",
    "\n",
    "countries_list = df_samples['country'].unique()\n",
    "sample_list = [df_sampletype_1, df_sampletype_2, df_sampletype_3, df_sampletype_4]\n",
    "\n",
    "j= 0\n",
    "while j < len(sample_list):\n",
    "    for i in countries_list:\n",
    "            df = sample_list[j]\n",
    "            dicts_countries_per_sample_type[i] = df.loc[df['country'] == (i)]\n",
    "    \n",
    "#get all assay (genes) for each country using sample_id in abundance dataframe\n",
    "            df_all_assay[i] = df_abun.merge( dicts_countries_per_sample_type[i], on= 'sample_id')\n",
    "#get rid of NULL values of ralative abudances    \n",
    "            df_all_assay_with_signal[i] = df_all_assay[i].dropna(subset=['relative'])\n",
    "#for each assay show general statistic for relative abundance, and show the top 50 according to relative abundance, count means total time gene is assayed equals total samples assayed\n",
    "            df_abun_data_most_detected_assay[i] = df_all_assay_with_signal[i].groupby('assay').agg({'relative': ['mean', 'min', 'max', 'count']}).relative.sort_values(by=['mean'],ascending=False).nlargest(50, 'mean')\n",
    "#merging mean top 50 list with gene names and present in decending order of mean of relative abundance\n",
    "            df_abun_data_most_detected_assay_with_gene_name[i]= df_gene_names.merge(df_abun_data_most_detected_assay[i], on='assay').sort_values(by=['mean'],ascending=False)\n",
    "# Create a Pandas Excel writer using XlsxWriter as the engine.\n",
    "    file_name = df.type[1] + \"- Top 50 most detected genes for each country.xlsx\"\n",
    "    writer = pd.ExcelWriter('Documents/'+ file_name, engine='xlsxwriter')\n",
    "    for i in countries_list:\n",
    "# Write each dataframe to a different worksheet.\n",
    "        df_abun_data_most_detected_assay_with_gene_name[i].to_excel(writer, sheet_name= str(i), index= False)\n",
    "# Close the Pandas Excel writer and output the Excel file.\n",
    "    writer.save()\n",
    "    j=j+1"
   ]
  }
 ],
 "metadata": {
  "kernelspec": {
   "display_name": "Python 3",
   "language": "python",
   "name": "python3"
  },
  "language_info": {
   "codemirror_mode": {
    "name": "ipython",
    "version": 3
   },
   "file_extension": ".py",
   "mimetype": "text/x-python",
   "name": "python",
   "nbconvert_exporter": "python",
   "pygments_lexer": "ipython3",
   "version": "3.7.0"
  }
 },
 "nbformat": 4,
 "nbformat_minor": 5
}
